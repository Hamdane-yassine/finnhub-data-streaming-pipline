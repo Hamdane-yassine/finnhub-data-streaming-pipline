{
 "cells": [
  {
   "cell_type": "code",
   "execution_count": 65,
   "metadata": {},
   "outputs": [],
   "source": [
    "from pyspark.sql import SparkSession\n",
    "from pyspark.sql.functions import explode, window, col\n",
    "from pyspark.sql.avro.functions import from_avro\n",
    "from pyspark.sql.dataframe import DataFrame\n",
    "from time import sleep"
   ]
  },
  {
   "cell_type": "code",
   "execution_count": 66,
   "metadata": {},
   "outputs": [],
   "source": [
    "TOPIC = \"market\"\n",
    "KAFKA_SERVER = \"localhost\"\n",
    "KAFKA_PORT = 9094\n",
    "KAFKA_CLIENT_VERSION = \"3.7.0\"\n",
    "\n",
    "SCALA_VERSION = '2.12'\n",
    "SPARK_VERSION = '3.5.1'\n",
    "SPARK_MASTER = \"local[*]\"\n",
    "SHUFFLE_PARTITIONS = 5\n",
    "\n",
    "APP_NAME = \"BigDataStreaming\""
   ]
  },
  {
   "cell_type": "code",
   "execution_count": 67,
   "metadata": {},
   "outputs": [
    {
     "data": {
      "text/html": [
       "\n",
       "            <div>\n",
       "                <p><b>SparkSession - in-memory</b></p>\n",
       "                \n",
       "        <div>\n",
       "            <p><b>SparkContext</b></p>\n",
       "\n",
       "            <p><a href=\"http://172.29.240.184:4040\">Spark UI</a></p>\n",
       "\n",
       "            <dl>\n",
       "              <dt>Version</dt>\n",
       "                <dd><code>v3.5.1</code></dd>\n",
       "              <dt>Master</dt>\n",
       "                <dd><code>local[*]</code></dd>\n",
       "              <dt>AppName</dt>\n",
       "                <dd><code>BigDataStreaming</code></dd>\n",
       "            </dl>\n",
       "        </div>\n",
       "        \n",
       "            </div>\n",
       "        "
      ],
      "text/plain": [
       "<pyspark.sql.session.SparkSession at 0x7fe903e86310>"
      ]
     },
     "execution_count": 67,
     "metadata": {},
     "output_type": "execute_result"
    }
   ],
   "source": [
    "from pyspark.sql import SparkSession\n",
    "\n",
    "packages = [\n",
    "    f'org.apache.spark:spark-sql-kafka-0-10_{SCALA_VERSION}:{SPARK_VERSION}',\n",
    "    f'org.apache.kafka:kafka-clients:{KAFKA_CLIENT_VERSION}',\n",
    "    f'org.apache.spark:spark-avro_{SCALA_VERSION}:{SPARK_VERSION}'\n",
    "]\n",
    "\n",
    "spark = SparkSession.builder\\\n",
    "   .master(SPARK_MASTER)\\\n",
    "   .appName(APP_NAME)\\\n",
    "   .config(\"spark.jars.packages\", \",\".join(packages))\\\n",
    "   .config(\"spark.sql.shuffle.partitions\", SHUFFLE_PARTITIONS)\\\n",
    "   .getOrCreate()\n",
    "spark"
   ]
  },
  {
   "cell_type": "code",
   "execution_count": 68,
   "metadata": {},
   "outputs": [
    {
     "name": "stdout",
     "output_type": "stream",
     "text": [
      "root\n",
      " |-- key: binary (nullable = true)\n",
      " |-- value: binary (nullable = true)\n",
      " |-- topic: string (nullable = true)\n",
      " |-- partition: integer (nullable = true)\n",
      " |-- offset: long (nullable = true)\n",
      " |-- timestamp: timestamp (nullable = true)\n",
      " |-- timestampType: integer (nullable = true)\n",
      "\n"
     ]
    }
   ],
   "source": [
    "market_stream: DataFrame = spark.readStream.format(\"kafka\")\\\n",
    "    .option(\"kafka.bootstrap.servers\", f\"{KAFKA_SERVER}:{KAFKA_PORT}\")\\\n",
    "    .option(\"subscribe\", \"market\")\\\n",
    "    .option(\"startingOffsets\", \"earliest\")\\\n",
    "    .load()\n",
    "market_stream.printSchema()"
   ]
  },
  {
   "attachments": {},
   "cell_type": "markdown",
   "metadata": {},
   "source": [
    "Dataframe transformation to extract AVRO data into corresponding fields, and format the timestamp correctly"
   ]
  },
  {
   "cell_type": "code",
   "execution_count": 69,
   "metadata": {},
   "outputs": [],
   "source": [
    "avro_schema = open(\"trade.avsc\", \"r\").read()\n",
    "\n",
    "trades_stream = market_stream\\\n",
    "    .withColumn(\"trade_data\", from_avro(\"value\", avro_schema))\\\n",
    "    .select(\"trade_data\")\\\n",
    "    .select(\"trade_data.*\")\\\n",
    "    .select(explode(\"data\"),\"type\")\\\n",
    "    .select(\"col.*\")\\\n",
    "    .selectExpr(\"p as price\", \"s as symbol\", \"v as volume\", \"cast(cast(t as double) / 1000 as timestamp) as event_time\")    "
   ]
  },
  {
   "attachments": {},
   "cell_type": "markdown",
   "metadata": {},
   "source": [
    "query for the trades table"
   ]
  },
  {
   "cell_type": "code",
   "execution_count": 70,
   "metadata": {},
   "outputs": [
    {
     "name": "stderr",
     "output_type": "stream",
     "text": [
      "24/04/17 00:36:51 WARN ResolveWriteToStream: Temporary checkpoint location created which is deleted normally when the query didn't fail: /tmp/temporary-2c9a4cc3-671a-4afc-8366-9ea8788ad599. If it's required to delete it under any circumstances, please set spark.sql.streaming.forceDeleteTempCheckpointLocation to true. Important to know deleting temp checkpoint folder is best effort.\n",
      "24/04/17 00:36:51 WARN ResolveWriteToStream: spark.sql.adaptive.enabled is not supported in streaming DataFrames/Datasets and will be disabled.\n"
     ]
    }
   ],
   "source": [
    "trades_query = trades_stream\\\n",
    "    .writeStream\\\n",
    "    .queryName(\"trades\")\\\n",
    "    .format(\"memory\")\\\n",
    "    .outputMode(\"append\")\\\n",
    "    .start()"
   ]
  },
  {
   "cell_type": "code",
   "execution_count": 71,
   "metadata": {},
   "outputs": [
    {
     "name": "stdout",
     "output_type": "stream",
     "text": [
      "+-----+------+------+----------+\n",
      "|price|symbol|volume|event_time|\n",
      "+-----+------+------+----------+\n",
      "+-----+------+------+----------+\n",
      "\n",
      "+--------+---------------+-------+--------------------+\n",
      "|   price|         symbol| volume|          event_time|\n",
      "+--------+---------------+-------+--------------------+\n",
      "|63019.33|BINANCE:BTCUSDT|0.00318|2024-04-16 13:13:...|\n",
      "|63019.33|BINANCE:BTCUSDT|0.02947|2024-04-16 13:13:...|\n",
      "|63019.33|BINANCE:BTCUSDT| 0.0268|2024-04-16 13:13:...|\n",
      "|63019.34|BINANCE:BTCUSDT|0.00199|2024-04-16 13:13:...|\n",
      "|63019.34|BINANCE:BTCUSDT|0.00176|2024-04-16 13:13:...|\n",
      "|63019.34|BINANCE:BTCUSDT| 1.6E-4|2024-04-16 13:13:...|\n",
      "|63019.35|BINANCE:BTCUSDT|0.00154|2024-04-16 13:13:...|\n",
      "| 63019.4|BINANCE:BTCUSDT| 9.0E-5|2024-04-16 13:13:...|\n",
      "|63020.22|BINANCE:BTCUSDT| 9.0E-5|2024-04-16 13:13:...|\n",
      "|63021.04|BINANCE:BTCUSDT| 9.0E-5|2024-04-16 13:13:...|\n",
      "|63019.33|BINANCE:BTCUSDT|0.00318|2024-04-16 13:13:...|\n",
      "|63019.33|BINANCE:BTCUSDT|0.02947|2024-04-16 13:13:...|\n",
      "|63019.33|BINANCE:BTCUSDT| 0.0268|2024-04-16 13:13:...|\n",
      "|63019.34|BINANCE:BTCUSDT|0.00199|2024-04-16 13:13:...|\n",
      "|63019.34|BINANCE:BTCUSDT|0.00176|2024-04-16 13:13:...|\n",
      "|63019.34|BINANCE:BTCUSDT| 1.6E-4|2024-04-16 13:13:...|\n",
      "|63019.35|BINANCE:BTCUSDT|0.00154|2024-04-16 13:13:...|\n",
      "| 63019.4|BINANCE:BTCUSDT| 9.0E-5|2024-04-16 13:13:...|\n",
      "|63020.22|BINANCE:BTCUSDT| 9.0E-5|2024-04-16 13:13:...|\n",
      "|63021.04|BINANCE:BTCUSDT| 9.0E-5|2024-04-16 13:13:...|\n",
      "+--------+---------------+-------+--------------------+\n",
      "only showing top 20 rows\n",
      "\n",
      "+--------+---------------+-------+--------------------+\n",
      "|   price|         symbol| volume|          event_time|\n",
      "+--------+---------------+-------+--------------------+\n",
      "|63019.33|BINANCE:BTCUSDT|0.00318|2024-04-16 13:13:...|\n",
      "|63019.33|BINANCE:BTCUSDT|0.02947|2024-04-16 13:13:...|\n",
      "|63019.33|BINANCE:BTCUSDT| 0.0268|2024-04-16 13:13:...|\n",
      "|63019.34|BINANCE:BTCUSDT|0.00199|2024-04-16 13:13:...|\n",
      "|63019.34|BINANCE:BTCUSDT|0.00176|2024-04-16 13:13:...|\n",
      "|63019.34|BINANCE:BTCUSDT| 1.6E-4|2024-04-16 13:13:...|\n",
      "|63019.35|BINANCE:BTCUSDT|0.00154|2024-04-16 13:13:...|\n",
      "| 63019.4|BINANCE:BTCUSDT| 9.0E-5|2024-04-16 13:13:...|\n",
      "|63020.22|BINANCE:BTCUSDT| 9.0E-5|2024-04-16 13:13:...|\n",
      "|63021.04|BINANCE:BTCUSDT| 9.0E-5|2024-04-16 13:13:...|\n",
      "|63019.33|BINANCE:BTCUSDT|0.00318|2024-04-16 13:13:...|\n",
      "|63019.33|BINANCE:BTCUSDT|0.02947|2024-04-16 13:13:...|\n",
      "|63019.33|BINANCE:BTCUSDT| 0.0268|2024-04-16 13:13:...|\n",
      "|63019.34|BINANCE:BTCUSDT|0.00199|2024-04-16 13:13:...|\n",
      "|63019.34|BINANCE:BTCUSDT|0.00176|2024-04-16 13:13:...|\n",
      "|63019.34|BINANCE:BTCUSDT| 1.6E-4|2024-04-16 13:13:...|\n",
      "|63019.35|BINANCE:BTCUSDT|0.00154|2024-04-16 13:13:...|\n",
      "| 63019.4|BINANCE:BTCUSDT| 9.0E-5|2024-04-16 13:13:...|\n",
      "|63020.22|BINANCE:BTCUSDT| 9.0E-5|2024-04-16 13:13:...|\n",
      "|63021.04|BINANCE:BTCUSDT| 9.0E-5|2024-04-16 13:13:...|\n",
      "+--------+---------------+-------+--------------------+\n",
      "only showing top 20 rows\n",
      "\n",
      "+--------+---------------+-------+--------------------+\n",
      "|   price|         symbol| volume|          event_time|\n",
      "+--------+---------------+-------+--------------------+\n",
      "|63019.33|BINANCE:BTCUSDT|0.00318|2024-04-16 13:13:...|\n",
      "|63019.33|BINANCE:BTCUSDT|0.02947|2024-04-16 13:13:...|\n",
      "|63019.33|BINANCE:BTCUSDT| 0.0268|2024-04-16 13:13:...|\n",
      "|63019.34|BINANCE:BTCUSDT|0.00199|2024-04-16 13:13:...|\n",
      "|63019.34|BINANCE:BTCUSDT|0.00176|2024-04-16 13:13:...|\n",
      "|63019.34|BINANCE:BTCUSDT| 1.6E-4|2024-04-16 13:13:...|\n",
      "|63019.35|BINANCE:BTCUSDT|0.00154|2024-04-16 13:13:...|\n",
      "| 63019.4|BINANCE:BTCUSDT| 9.0E-5|2024-04-16 13:13:...|\n",
      "|63020.22|BINANCE:BTCUSDT| 9.0E-5|2024-04-16 13:13:...|\n",
      "|63021.04|BINANCE:BTCUSDT| 9.0E-5|2024-04-16 13:13:...|\n",
      "|63019.33|BINANCE:BTCUSDT|0.00318|2024-04-16 13:13:...|\n",
      "|63019.33|BINANCE:BTCUSDT|0.02947|2024-04-16 13:13:...|\n",
      "|63019.33|BINANCE:BTCUSDT| 0.0268|2024-04-16 13:13:...|\n",
      "|63019.34|BINANCE:BTCUSDT|0.00199|2024-04-16 13:13:...|\n",
      "|63019.34|BINANCE:BTCUSDT|0.00176|2024-04-16 13:13:...|\n",
      "|63019.34|BINANCE:BTCUSDT| 1.6E-4|2024-04-16 13:13:...|\n",
      "|63019.35|BINANCE:BTCUSDT|0.00154|2024-04-16 13:13:...|\n",
      "| 63019.4|BINANCE:BTCUSDT| 9.0E-5|2024-04-16 13:13:...|\n",
      "|63020.22|BINANCE:BTCUSDT| 9.0E-5|2024-04-16 13:13:...|\n",
      "|63021.04|BINANCE:BTCUSDT| 9.0E-5|2024-04-16 13:13:...|\n",
      "+--------+---------------+-------+--------------------+\n",
      "only showing top 20 rows\n",
      "\n",
      "+--------+---------------+-------+--------------------+\n",
      "|   price|         symbol| volume|          event_time|\n",
      "+--------+---------------+-------+--------------------+\n",
      "|63019.33|BINANCE:BTCUSDT|0.00318|2024-04-16 13:13:...|\n",
      "|63019.33|BINANCE:BTCUSDT|0.02947|2024-04-16 13:13:...|\n",
      "|63019.33|BINANCE:BTCUSDT| 0.0268|2024-04-16 13:13:...|\n",
      "|63019.34|BINANCE:BTCUSDT|0.00199|2024-04-16 13:13:...|\n",
      "|63019.34|BINANCE:BTCUSDT|0.00176|2024-04-16 13:13:...|\n",
      "|63019.34|BINANCE:BTCUSDT| 1.6E-4|2024-04-16 13:13:...|\n",
      "|63019.35|BINANCE:BTCUSDT|0.00154|2024-04-16 13:13:...|\n",
      "| 63019.4|BINANCE:BTCUSDT| 9.0E-5|2024-04-16 13:13:...|\n",
      "|63020.22|BINANCE:BTCUSDT| 9.0E-5|2024-04-16 13:13:...|\n",
      "|63021.04|BINANCE:BTCUSDT| 9.0E-5|2024-04-16 13:13:...|\n",
      "|63019.33|BINANCE:BTCUSDT|0.00318|2024-04-16 13:13:...|\n",
      "|63019.33|BINANCE:BTCUSDT|0.02947|2024-04-16 13:13:...|\n",
      "|63019.33|BINANCE:BTCUSDT| 0.0268|2024-04-16 13:13:...|\n",
      "|63019.34|BINANCE:BTCUSDT|0.00199|2024-04-16 13:13:...|\n",
      "|63019.34|BINANCE:BTCUSDT|0.00176|2024-04-16 13:13:...|\n",
      "|63019.34|BINANCE:BTCUSDT| 1.6E-4|2024-04-16 13:13:...|\n",
      "|63019.35|BINANCE:BTCUSDT|0.00154|2024-04-16 13:13:...|\n",
      "| 63019.4|BINANCE:BTCUSDT| 9.0E-5|2024-04-16 13:13:...|\n",
      "|63020.22|BINANCE:BTCUSDT| 9.0E-5|2024-04-16 13:13:...|\n",
      "|63021.04|BINANCE:BTCUSDT| 9.0E-5|2024-04-16 13:13:...|\n",
      "+--------+---------------+-------+--------------------+\n",
      "only showing top 20 rows\n",
      "\n",
      "+--------+---------------+-------+--------------------+\n",
      "|   price|         symbol| volume|          event_time|\n",
      "+--------+---------------+-------+--------------------+\n",
      "|63019.33|BINANCE:BTCUSDT|0.00318|2024-04-16 13:13:...|\n",
      "|63019.33|BINANCE:BTCUSDT|0.02947|2024-04-16 13:13:...|\n",
      "|63019.33|BINANCE:BTCUSDT| 0.0268|2024-04-16 13:13:...|\n",
      "|63019.34|BINANCE:BTCUSDT|0.00199|2024-04-16 13:13:...|\n",
      "|63019.34|BINANCE:BTCUSDT|0.00176|2024-04-16 13:13:...|\n",
      "|63019.34|BINANCE:BTCUSDT| 1.6E-4|2024-04-16 13:13:...|\n",
      "|63019.35|BINANCE:BTCUSDT|0.00154|2024-04-16 13:13:...|\n",
      "| 63019.4|BINANCE:BTCUSDT| 9.0E-5|2024-04-16 13:13:...|\n",
      "|63020.22|BINANCE:BTCUSDT| 9.0E-5|2024-04-16 13:13:...|\n",
      "|63021.04|BINANCE:BTCUSDT| 9.0E-5|2024-04-16 13:13:...|\n",
      "|63019.33|BINANCE:BTCUSDT|0.00318|2024-04-16 13:13:...|\n",
      "|63019.33|BINANCE:BTCUSDT|0.02947|2024-04-16 13:13:...|\n",
      "|63019.33|BINANCE:BTCUSDT| 0.0268|2024-04-16 13:13:...|\n",
      "|63019.34|BINANCE:BTCUSDT|0.00199|2024-04-16 13:13:...|\n",
      "|63019.34|BINANCE:BTCUSDT|0.00176|2024-04-16 13:13:...|\n",
      "|63019.34|BINANCE:BTCUSDT| 1.6E-4|2024-04-16 13:13:...|\n",
      "|63019.35|BINANCE:BTCUSDT|0.00154|2024-04-16 13:13:...|\n",
      "| 63019.4|BINANCE:BTCUSDT| 9.0E-5|2024-04-16 13:13:...|\n",
      "|63020.22|BINANCE:BTCUSDT| 9.0E-5|2024-04-16 13:13:...|\n",
      "|63021.04|BINANCE:BTCUSDT| 9.0E-5|2024-04-16 13:13:...|\n",
      "+--------+---------------+-------+--------------------+\n",
      "only showing top 20 rows\n",
      "\n",
      "+--------+---------------+-------+--------------------+\n",
      "|   price|         symbol| volume|          event_time|\n",
      "+--------+---------------+-------+--------------------+\n",
      "|63019.33|BINANCE:BTCUSDT|0.00318|2024-04-16 13:13:...|\n",
      "|63019.33|BINANCE:BTCUSDT|0.02947|2024-04-16 13:13:...|\n",
      "|63019.33|BINANCE:BTCUSDT| 0.0268|2024-04-16 13:13:...|\n",
      "|63019.34|BINANCE:BTCUSDT|0.00199|2024-04-16 13:13:...|\n",
      "|63019.34|BINANCE:BTCUSDT|0.00176|2024-04-16 13:13:...|\n",
      "|63019.34|BINANCE:BTCUSDT| 1.6E-4|2024-04-16 13:13:...|\n",
      "|63019.35|BINANCE:BTCUSDT|0.00154|2024-04-16 13:13:...|\n",
      "| 63019.4|BINANCE:BTCUSDT| 9.0E-5|2024-04-16 13:13:...|\n",
      "|63020.22|BINANCE:BTCUSDT| 9.0E-5|2024-04-16 13:13:...|\n",
      "|63021.04|BINANCE:BTCUSDT| 9.0E-5|2024-04-16 13:13:...|\n",
      "|63019.33|BINANCE:BTCUSDT|0.00318|2024-04-16 13:13:...|\n",
      "|63019.33|BINANCE:BTCUSDT|0.02947|2024-04-16 13:13:...|\n",
      "|63019.33|BINANCE:BTCUSDT| 0.0268|2024-04-16 13:13:...|\n",
      "|63019.34|BINANCE:BTCUSDT|0.00199|2024-04-16 13:13:...|\n",
      "|63019.34|BINANCE:BTCUSDT|0.00176|2024-04-16 13:13:...|\n",
      "|63019.34|BINANCE:BTCUSDT| 1.6E-4|2024-04-16 13:13:...|\n",
      "|63019.35|BINANCE:BTCUSDT|0.00154|2024-04-16 13:13:...|\n",
      "| 63019.4|BINANCE:BTCUSDT| 9.0E-5|2024-04-16 13:13:...|\n",
      "|63020.22|BINANCE:BTCUSDT| 9.0E-5|2024-04-16 13:13:...|\n",
      "|63021.04|BINANCE:BTCUSDT| 9.0E-5|2024-04-16 13:13:...|\n",
      "+--------+---------------+-------+--------------------+\n",
      "only showing top 20 rows\n",
      "\n"
     ]
    },
    {
     "ename": "KeyboardInterrupt",
     "evalue": "",
     "output_type": "error",
     "traceback": [
      "\u001b[0;31m---------------------------------------------------------------------------\u001b[0m",
      "\u001b[0;31mKeyboardInterrupt\u001b[0m                         Traceback (most recent call last)",
      "Cell \u001b[0;32mIn[71], line 3\u001b[0m\n\u001b[1;32m      1\u001b[0m \u001b[39mwhile\u001b[39;00m \u001b[39m1\u001b[39m:\n\u001b[1;32m      2\u001b[0m     spark\u001b[39m.\u001b[39msql(\u001b[39m\"\u001b[39m\u001b[39mSELECT * FROM trades\u001b[39m\u001b[39m\"\u001b[39m)\u001b[39m.\u001b[39mshow()\n\u001b[0;32m----> 3\u001b[0m     sleep(\u001b[39m1\u001b[39;49m)\n",
      "\u001b[0;31mKeyboardInterrupt\u001b[0m: "
     ]
    }
   ],
   "source": [
    "while 1:\n",
    "    spark.sql(\"SELECT * FROM trades\").show()\n",
    "    sleep(1)"
   ]
  },
  {
   "attachments": {},
   "cell_type": "markdown",
   "metadata": {},
   "source": [
    "query for the minute_trades table to calculate the count and average price of trades on a window of 1 minute"
   ]
  },
  {
   "cell_type": "code",
   "execution_count": 72,
   "metadata": {},
   "outputs": [
    {
     "name": "stderr",
     "output_type": "stream",
     "text": [
      "24/04/17 00:37:03 WARN ResolveWriteToStream: Temporary checkpoint location created which is deleted normally when the query didn't fail: /tmp/temporary-79a23478-10ba-4330-bb9e-d7058a42a8cd. If it's required to delete it under any circumstances, please set spark.sql.streaming.forceDeleteTempCheckpointLocation to true. Important to know deleting temp checkpoint folder is best effort.\n",
      "24/04/17 00:37:03 WARN ResolveWriteToStream: spark.sql.adaptive.enabled is not supported in streaming DataFrames/Datasets and will be disabled.\n"
     ]
    },
    {
     "name": "stderr",
     "output_type": "stream",
     "text": [
      "                                                                                \r"
     ]
    }
   ],
   "source": [
    "minute_trades_query = trades_stream\\\n",
    "    .withWatermark(\"event_time\", \"2 minutes\")\\\n",
    "    .groupby(window(col(\"event_time\"), \"1 minute\"))\\\n",
    "    .agg({\"*\" : \"count\", \"price\" : \"avg\"})\\\n",
    "    .writeStream\\\n",
    "    .queryName(\"minute_trades\")\\\n",
    "    .format(\"memory\")\\\n",
    "    .outputMode(\"complete\")\\\n",
    "    .start(\"\")"
   ]
  },
  {
   "cell_type": "code",
   "execution_count": 74,
   "metadata": {},
   "outputs": [
    {
     "name": "stdout",
     "output_type": "stream",
     "text": [
      "+--------------------+------------------+--------+\n",
      "|              window|        avg(price)|count(1)|\n",
      "+--------------------+------------------+--------+\n",
      "|{2024-04-16 13:17...|  62902.6971428569|     329|\n",
      "|{2024-04-16 13:16...| 62976.46799999992|     120|\n",
      "|{2024-04-17 00:16...|63735.570000000254|     680|\n",
      "|{2024-04-17 00:33...| 63780.57999999937|     497|\n",
      "|{2024-04-16 13:13...|63019.602000000006|      30|\n",
      "|{2024-04-16 20:46...|          62729.94|       2|\n",
      "|{2024-04-17 00:09...| 63711.96999999992|     132|\n",
      "+--------------------+------------------+--------+\n",
      "\n",
      "+--------------------+------------------+--------+\n",
      "|              window|        avg(price)|count(1)|\n",
      "+--------------------+------------------+--------+\n",
      "|{2024-04-16 13:17...|  62902.6971428569|     329|\n",
      "|{2024-04-16 13:16...| 62976.46799999992|     120|\n",
      "|{2024-04-17 00:16...|63735.570000000254|     680|\n",
      "|{2024-04-17 00:33...| 63780.57999999937|     502|\n",
      "|{2024-04-16 13:13...|63019.602000000006|      30|\n",
      "|{2024-04-16 20:46...|          62729.94|       2|\n",
      "|{2024-04-17 00:09...| 63711.96999999992|     132|\n",
      "+--------------------+------------------+--------+\n",
      "\n",
      "+--------------------+------------------+--------+\n",
      "|              window|        avg(price)|count(1)|\n",
      "+--------------------+------------------+--------+\n",
      "|{2024-04-16 13:17...|  62902.6971428569|     329|\n",
      "|{2024-04-16 13:16...| 62976.46799999992|     120|\n",
      "|{2024-04-17 00:16...|63735.570000000254|     680|\n",
      "|{2024-04-17 00:33...| 63780.57999999937|     503|\n",
      "|{2024-04-16 13:13...|63019.602000000006|      30|\n",
      "|{2024-04-16 20:46...|          62729.94|       2|\n",
      "|{2024-04-17 00:09...| 63711.96999999992|     132|\n",
      "+--------------------+------------------+--------+\n",
      "\n",
      "+--------------------+------------------+--------+\n",
      "|              window|        avg(price)|count(1)|\n",
      "+--------------------+------------------+--------+\n",
      "|{2024-04-16 13:17...|  62902.6971428569|     329|\n",
      "|{2024-04-16 13:16...| 62976.46799999992|     120|\n",
      "|{2024-04-17 00:16...|63735.570000000254|     680|\n",
      "|{2024-04-17 00:33...| 63780.57999999936|     504|\n",
      "|{2024-04-16 13:13...|63019.602000000006|      30|\n",
      "|{2024-04-16 20:46...|          62729.94|       2|\n",
      "|{2024-04-17 00:09...| 63711.96999999992|     132|\n",
      "+--------------------+------------------+--------+\n",
      "\n",
      "+--------------------+------------------+--------+\n",
      "|              window|        avg(price)|count(1)|\n",
      "+--------------------+------------------+--------+\n",
      "|{2024-04-16 13:17...|  62902.6971428569|     329|\n",
      "|{2024-04-16 13:16...| 62976.46799999992|     120|\n",
      "|{2024-04-17 00:16...|63735.570000000254|     680|\n",
      "|{2024-04-17 00:33...| 63780.57999999936|     505|\n",
      "|{2024-04-16 13:13...|63019.602000000006|      30|\n",
      "|{2024-04-16 20:46...|          62729.94|       2|\n",
      "|{2024-04-17 00:09...| 63711.96999999992|     132|\n",
      "+--------------------+------------------+--------+\n",
      "\n",
      "+--------------------+------------------+--------+\n",
      "|              window|        avg(price)|count(1)|\n",
      "+--------------------+------------------+--------+\n",
      "|{2024-04-16 13:17...|  62902.6971428569|     329|\n",
      "|{2024-04-16 13:16...| 62976.46799999992|     120|\n",
      "|{2024-04-17 00:16...|63735.570000000254|     680|\n",
      "|{2024-04-17 00:33...| 63780.57999999936|     506|\n",
      "|{2024-04-16 13:13...|63019.602000000006|      30|\n",
      "|{2024-04-16 20:46...|          62729.94|       2|\n",
      "|{2024-04-17 00:09...| 63711.96999999992|     132|\n",
      "+--------------------+------------------+--------+\n",
      "\n",
      "+--------------------+------------------+--------+\n",
      "|              window|        avg(price)|count(1)|\n",
      "+--------------------+------------------+--------+\n",
      "|{2024-04-16 13:17...|  62902.6971428569|     329|\n",
      "|{2024-04-16 13:16...| 62976.46799999992|     120|\n",
      "|{2024-04-17 00:16...|63735.570000000254|     680|\n",
      "|{2024-04-17 00:33...| 63780.57999999936|     507|\n",
      "|{2024-04-16 13:13...|63019.602000000006|      30|\n",
      "|{2024-04-16 20:46...|          62729.94|       2|\n",
      "|{2024-04-17 00:09...| 63711.96999999992|     132|\n",
      "+--------------------+------------------+--------+\n",
      "\n"
     ]
    },
    {
     "name": "stderr",
     "output_type": "stream",
     "text": [
      "ERROR:root:KeyboardInterrupt while sending command.\n",
      "Traceback (most recent call last):\n",
      "  File \"/home/furypirate/.local/lib/python3.8/site-packages/py4j/java_gateway.py\", line 1038, in send_command\n",
      "    response = connection.send_command(command)\n",
      "  File \"/home/furypirate/.local/lib/python3.8/site-packages/py4j/clientserver.py\", line 511, in send_command\n",
      "    answer = smart_decode(self.stream.readline()[:-1])\n",
      "  File \"/usr/lib/python3.8/socket.py\", line 669, in readinto\n",
      "    return self._sock.recv_into(b)\n",
      "KeyboardInterrupt\n"
     ]
    },
    {
     "ename": "KeyboardInterrupt",
     "evalue": "",
     "output_type": "error",
     "traceback": [
      "\u001b[0;31m---------------------------------------------------------------------------\u001b[0m",
      "\u001b[0;31mKeyboardInterrupt\u001b[0m                         Traceback (most recent call last)",
      "Cell \u001b[0;32mIn[74], line 2\u001b[0m\n\u001b[1;32m      1\u001b[0m \u001b[39mwhile\u001b[39;00m \u001b[39m1\u001b[39m:\n\u001b[0;32m----> 2\u001b[0m     spark\u001b[39m.\u001b[39;49msql(\u001b[39m\"\u001b[39;49m\u001b[39mSELECT * FROM minute_trades\u001b[39;49m\u001b[39m\"\u001b[39;49m)\u001b[39m.\u001b[39;49mshow()\n\u001b[1;32m      3\u001b[0m     sleep(\u001b[39m1\u001b[39m)\n",
      "File \u001b[0;32m~/.local/lib/python3.8/site-packages/pyspark/sql/dataframe.py:945\u001b[0m, in \u001b[0;36mDataFrame.show\u001b[0;34m(self, n, truncate, vertical)\u001b[0m\n\u001b[1;32m    885\u001b[0m \u001b[39mdef\u001b[39;00m \u001b[39mshow\u001b[39m(\u001b[39mself\u001b[39m, n: \u001b[39mint\u001b[39m \u001b[39m=\u001b[39m \u001b[39m20\u001b[39m, truncate: Union[\u001b[39mbool\u001b[39m, \u001b[39mint\u001b[39m] \u001b[39m=\u001b[39m \u001b[39mTrue\u001b[39;00m, vertical: \u001b[39mbool\u001b[39m \u001b[39m=\u001b[39m \u001b[39mFalse\u001b[39;00m) \u001b[39m-\u001b[39m\u001b[39m>\u001b[39m \u001b[39mNone\u001b[39;00m:\n\u001b[1;32m    886\u001b[0m \u001b[39m    \u001b[39m\u001b[39m\"\"\"Prints the first ``n`` rows to the console.\u001b[39;00m\n\u001b[1;32m    887\u001b[0m \n\u001b[1;32m    888\u001b[0m \u001b[39m    .. versionadded:: 1.3.0\u001b[39;00m\n\u001b[0;32m   (...)\u001b[0m\n\u001b[1;32m    943\u001b[0m \u001b[39m    name | Bob\u001b[39;00m\n\u001b[1;32m    944\u001b[0m \u001b[39m    \"\"\"\u001b[39;00m\n\u001b[0;32m--> 945\u001b[0m     \u001b[39mprint\u001b[39m(\u001b[39mself\u001b[39;49m\u001b[39m.\u001b[39;49m_show_string(n, truncate, vertical))\n",
      "File \u001b[0;32m~/.local/lib/python3.8/site-packages/pyspark/sql/dataframe.py:963\u001b[0m, in \u001b[0;36mDataFrame._show_string\u001b[0;34m(self, n, truncate, vertical)\u001b[0m\n\u001b[1;32m    957\u001b[0m     \u001b[39mraise\u001b[39;00m PySparkTypeError(\n\u001b[1;32m    958\u001b[0m         error_class\u001b[39m=\u001b[39m\u001b[39m\"\u001b[39m\u001b[39mNOT_BOOL\u001b[39m\u001b[39m\"\u001b[39m,\n\u001b[1;32m    959\u001b[0m         message_parameters\u001b[39m=\u001b[39m{\u001b[39m\"\u001b[39m\u001b[39marg_name\u001b[39m\u001b[39m\"\u001b[39m: \u001b[39m\"\u001b[39m\u001b[39mvertical\u001b[39m\u001b[39m\"\u001b[39m, \u001b[39m\"\u001b[39m\u001b[39marg_type\u001b[39m\u001b[39m\"\u001b[39m: \u001b[39mtype\u001b[39m(vertical)\u001b[39m.\u001b[39m\u001b[39m__name__\u001b[39m},\n\u001b[1;32m    960\u001b[0m     )\n\u001b[1;32m    962\u001b[0m \u001b[39mif\u001b[39;00m \u001b[39misinstance\u001b[39m(truncate, \u001b[39mbool\u001b[39m) \u001b[39mand\u001b[39;00m truncate:\n\u001b[0;32m--> 963\u001b[0m     \u001b[39mreturn\u001b[39;00m \u001b[39mself\u001b[39;49m\u001b[39m.\u001b[39;49m_jdf\u001b[39m.\u001b[39;49mshowString(n, \u001b[39m20\u001b[39;49m, vertical)\n\u001b[1;32m    964\u001b[0m \u001b[39melse\u001b[39;00m:\n\u001b[1;32m    965\u001b[0m     \u001b[39mtry\u001b[39;00m:\n",
      "File \u001b[0;32m~/.local/lib/python3.8/site-packages/py4j/java_gateway.py:1321\u001b[0m, in \u001b[0;36mJavaMember.__call__\u001b[0;34m(self, *args)\u001b[0m\n\u001b[1;32m   1314\u001b[0m args_command, temp_args \u001b[39m=\u001b[39m \u001b[39mself\u001b[39m\u001b[39m.\u001b[39m_build_args(\u001b[39m*\u001b[39margs)\n\u001b[1;32m   1316\u001b[0m command \u001b[39m=\u001b[39m proto\u001b[39m.\u001b[39mCALL_COMMAND_NAME \u001b[39m+\u001b[39m\\\n\u001b[1;32m   1317\u001b[0m     \u001b[39mself\u001b[39m\u001b[39m.\u001b[39mcommand_header \u001b[39m+\u001b[39m\\\n\u001b[1;32m   1318\u001b[0m     args_command \u001b[39m+\u001b[39m\\\n\u001b[1;32m   1319\u001b[0m     proto\u001b[39m.\u001b[39mEND_COMMAND_PART\n\u001b[0;32m-> 1321\u001b[0m answer \u001b[39m=\u001b[39m \u001b[39mself\u001b[39;49m\u001b[39m.\u001b[39;49mgateway_client\u001b[39m.\u001b[39;49msend_command(command)\n\u001b[1;32m   1322\u001b[0m return_value \u001b[39m=\u001b[39m get_return_value(\n\u001b[1;32m   1323\u001b[0m     answer, \u001b[39mself\u001b[39m\u001b[39m.\u001b[39mgateway_client, \u001b[39mself\u001b[39m\u001b[39m.\u001b[39mtarget_id, \u001b[39mself\u001b[39m\u001b[39m.\u001b[39mname)\n\u001b[1;32m   1325\u001b[0m \u001b[39mfor\u001b[39;00m temp_arg \u001b[39min\u001b[39;00m temp_args:\n",
      "File \u001b[0;32m~/.local/lib/python3.8/site-packages/py4j/java_gateway.py:1038\u001b[0m, in \u001b[0;36mGatewayClient.send_command\u001b[0;34m(self, command, retry, binary)\u001b[0m\n\u001b[1;32m   1036\u001b[0m connection \u001b[39m=\u001b[39m \u001b[39mself\u001b[39m\u001b[39m.\u001b[39m_get_connection()\n\u001b[1;32m   1037\u001b[0m \u001b[39mtry\u001b[39;00m:\n\u001b[0;32m-> 1038\u001b[0m     response \u001b[39m=\u001b[39m connection\u001b[39m.\u001b[39;49msend_command(command)\n\u001b[1;32m   1039\u001b[0m     \u001b[39mif\u001b[39;00m binary:\n\u001b[1;32m   1040\u001b[0m         \u001b[39mreturn\u001b[39;00m response, \u001b[39mself\u001b[39m\u001b[39m.\u001b[39m_create_connection_guard(connection)\n",
      "File \u001b[0;32m~/.local/lib/python3.8/site-packages/py4j/clientserver.py:511\u001b[0m, in \u001b[0;36mClientServerConnection.send_command\u001b[0;34m(self, command)\u001b[0m\n\u001b[1;32m    509\u001b[0m \u001b[39mtry\u001b[39;00m:\n\u001b[1;32m    510\u001b[0m     \u001b[39mwhile\u001b[39;00m \u001b[39mTrue\u001b[39;00m:\n\u001b[0;32m--> 511\u001b[0m         answer \u001b[39m=\u001b[39m smart_decode(\u001b[39mself\u001b[39;49m\u001b[39m.\u001b[39;49mstream\u001b[39m.\u001b[39;49mreadline()[:\u001b[39m-\u001b[39m\u001b[39m1\u001b[39m])\n\u001b[1;32m    512\u001b[0m         logger\u001b[39m.\u001b[39mdebug(\u001b[39m\"\u001b[39m\u001b[39mAnswer received: \u001b[39m\u001b[39m{0}\u001b[39;00m\u001b[39m\"\u001b[39m\u001b[39m.\u001b[39mformat(answer))\n\u001b[1;32m    513\u001b[0m         \u001b[39m# Happens when a the other end is dead. There might be an empty\u001b[39;00m\n\u001b[1;32m    514\u001b[0m         \u001b[39m# answer before the socket raises an error.\u001b[39;00m\n",
      "File \u001b[0;32m/usr/lib/python3.8/socket.py:669\u001b[0m, in \u001b[0;36mSocketIO.readinto\u001b[0;34m(self, b)\u001b[0m\n\u001b[1;32m    667\u001b[0m \u001b[39mwhile\u001b[39;00m \u001b[39mTrue\u001b[39;00m:\n\u001b[1;32m    668\u001b[0m     \u001b[39mtry\u001b[39;00m:\n\u001b[0;32m--> 669\u001b[0m         \u001b[39mreturn\u001b[39;00m \u001b[39mself\u001b[39;49m\u001b[39m.\u001b[39;49m_sock\u001b[39m.\u001b[39;49mrecv_into(b)\n\u001b[1;32m    670\u001b[0m     \u001b[39mexcept\u001b[39;00m timeout:\n\u001b[1;32m    671\u001b[0m         \u001b[39mself\u001b[39m\u001b[39m.\u001b[39m_timeout_occurred \u001b[39m=\u001b[39m \u001b[39mTrue\u001b[39;00m\n",
      "\u001b[0;31mKeyboardInterrupt\u001b[0m: "
     ]
    }
   ],
   "source": [
    "while 1:\n",
    "    spark.sql(\"SELECT * FROM minute_trades\").show()\n",
    "    sleep(1)"
   ]
  },
  {
   "cell_type": "code",
   "execution_count": 75,
   "metadata": {},
   "outputs": [
    {
     "name": "stderr",
     "output_type": "stream",
     "text": [
      "24/04/17 00:41:04 WARN StateStore: Error running maintenance thread\n",
      "java.lang.IllegalStateException: SparkEnv not active, cannot do maintenance on StateStores\n",
      "\tat org.apache.spark.sql.execution.streaming.state.StateStore$.doMaintenance(StateStore.scala:632)\n",
      "\tat org.apache.spark.sql.execution.streaming.state.StateStore$.$anonfun$startMaintenanceIfNeeded$1(StateStore.scala:610)\n",
      "\tat org.apache.spark.sql.execution.streaming.state.StateStore$MaintenanceTask$$anon$1.run(StateStore.scala:453)\n",
      "\tat java.base/java.util.concurrent.Executors$RunnableAdapter.call(Executors.java:515)\n",
      "\tat java.base/java.util.concurrent.FutureTask.runAndReset(FutureTask.java:305)\n",
      "\tat java.base/java.util.concurrent.ScheduledThreadPoolExecutor$ScheduledFutureTask.run(ScheduledThreadPoolExecutor.java:305)\n",
      "\tat java.base/java.util.concurrent.ThreadPoolExecutor.runWorker(ThreadPoolExecutor.java:1128)\n",
      "\tat java.base/java.util.concurrent.ThreadPoolExecutor$Worker.run(ThreadPoolExecutor.java:628)\n",
      "\tat java.base/java.lang.Thread.run(Thread.java:829)\n"
     ]
    }
   ],
   "source": [
    "spark.stop()"
   ]
  }
 ],
 "metadata": {
  "kernelspec": {
   "display_name": "Python 3",
   "language": "python",
   "name": "python3"
  },
  "language_info": {
   "codemirror_mode": {
    "name": "ipython",
    "version": 3
   },
   "file_extension": ".py",
   "mimetype": "text/x-python",
   "name": "python",
   "nbconvert_exporter": "python",
   "pygments_lexer": "ipython3",
   "version": "3.8.10"
  },
  "orig_nbformat": 4
 },
 "nbformat": 4,
 "nbformat_minor": 2
}
