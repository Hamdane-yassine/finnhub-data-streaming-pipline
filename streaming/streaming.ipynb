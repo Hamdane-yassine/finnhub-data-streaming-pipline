{
 "cells": [
  {
   "cell_type": "code",
   "execution_count": null,
   "metadata": {},
   "outputs": [],
   "source": [
    "from pyspark.sql import SparkSession\n",
    "from pyspark.sql.functions import explode, window, col\n",
    "from pyspark.sql.avro.functions import from_avro\n",
    "from pyspark.sql.dataframe import DataFrame\n",
    "\n",
    "from time import sleep"
   ]
  },
  {
   "cell_type": "code",
   "execution_count": null,
   "metadata": {},
   "outputs": [],
   "source": [
    "TOPIC = \"market\"\n",
    "KAFKA_SERVER = \"localhost\"\n",
    "KAFKA_PORT = 9094\n",
    "KAFKA_CLIENT_VERSION = \"3.7.0\"\n",
    "\n",
    "SCALA_VERSION = '2.12'\n",
    "SPARK_VERSION = '3.5.1'\n",
    "SPARK_MASTER = \"local[*]\"\n",
    "SHUFFLE_PARTITIONS = 20\n",
    "\n",
    "CASSANDRA_SERVER = \"localhost\"\n",
    "CASSANDRA_PORT = 9042\n",
    "\n",
    "APP_NAME = \"BigDataStreaming\""
   ]
  },
  {
   "cell_type": "code",
   "execution_count": null,
   "metadata": {},
   "outputs": [],
   "source": [
    "packages = [\n",
    "    f'org.apache.spark:spark-sql-kafka-0-10_{SCALA_VERSION}:{SPARK_VERSION}',\n",
    "    f'org.apache.kafka:kafka-clients:{KAFKA_CLIENT_VERSION}',\n",
    "    f'org.apache.spark:spark-avro_{SCALA_VERSION}:{SPARK_VERSION}',\n",
    "    f\"com.datastax.spark:spark-cassandra-connector-assembly_{SCALA_VERSION}:3.5.0\"\n",
    "]\n",
    "\n",
    "spark = SparkSession.builder\\\n",
    "   .master(SPARK_MASTER)\\\n",
    "   .appName(APP_NAME)\\\n",
    "   .config(\"spark.sql.shuffle.partitions\", f'{SHUFFLE_PARTITIONS}')\\\n",
    "   .config(\"spark.jars.packages\", \",\".join(packages))\\\n",
    "   .config(\"spark.cassandra.connection.host\",f\"{CASSANDRA_SERVER}:{CASSANDRA_PORT}\")\\\n",
    "   .getOrCreate()\n",
    "spark"
   ]
  },
  {
   "cell_type": "code",
   "execution_count": null,
   "metadata": {},
   "outputs": [],
   "source": [
    "market_stream: DataFrame = spark.readStream.format(\"kafka\")\\\n",
    "    .option(\"kafka.bootstrap.servers\", f\"{KAFKA_SERVER}:{KAFKA_PORT}\")\\\n",
    "    .option(\"subscribe\", \"market\")\\\n",
    "    .option(\"startingOffsets\", \"earliest\")\\\n",
    "    .option(\"failOnDataLoss\", \"false\")\\\n",
    "    .load()\n",
    "market_stream.printSchema()"
   ]
  },
  {
   "attachments": {},
   "cell_type": "markdown",
   "metadata": {},
   "source": [
    "Dataframe transformation query to extract AVRO data into corresponding fields, and format the timestamp correctly"
   ]
  },
  {
   "cell_type": "code",
   "execution_count": null,
   "metadata": {},
   "outputs": [],
   "source": [
    "avro_schema = open(\"../finnhub/trade.avsc\", \"r\").read()\n",
    "\n",
    "trades_stream = market_stream\\\n",
    "    .withColumn(\"trade_data\", from_avro(\"value\", avro_schema))\\\n",
    "    .select(\"trade_data.*\", \"offset\")\\\n",
    "    .select(explode(\"data\"), \"type\", \"offset\")\\\n",
    "    .select(\"col.*\", \"offset\")\\\n",
    "    .selectExpr(\"p as price\", \"s as symbol\", \"v as volume\", \"t as event_time\", \"offset\")\\\n",
    "    .withColumn(\"event_time\",(col(\"event_time\") / 1000).cast(\"timestamp\"))\n",
    "\n",
    "trades_stream.printSchema()\n",
    "\n",
    "trades_stream.writeStream\\\n",
    "    .queryName(\"trades\")\\\n",
    "    .format(\"org.apache.spark.sql.cassandra\") \\\n",
    "    .option(\"checkpointLocation\", '/tmp/checkpoint/trades/') \\\n",
    "    .options(table = \"trades\", keyspace = \"market\") \\\n",
    "    .outputMode(\"append\")\\\n",
    "    .start()"
   ]
  },
  {
   "cell_type": "code",
   "execution_count": null,
   "metadata": {},
   "outputs": [],
   "source": [
    "while 1:\n",
    "    spark.sql(\"SELECT * FROM trades ORDER BY event_time DESC\").show()\n",
    "    sleep(1)"
   ]
  },
  {
   "attachments": {},
   "cell_type": "markdown",
   "metadata": {},
   "source": [
    "query for the minute_trades table to calculate the count and average price of trades on a window of 1 minute"
   ]
  },
  {
   "cell_type": "code",
   "execution_count": null,
   "metadata": {},
   "outputs": [],
   "source": [
    "minute_trades_query = trades_stream\\\n",
    "    .withWatermark(\"event_time\", \"1 minute\")\\\n",
    "    .groupby(window(\"event_time\", \"1 minute\"))\\\n",
    "    .count()\\\n",
    "    .withColumnRenamed('count', \"total\")\\\n",
    "    .writeStream\\\n",
    "    .queryName(\"minute_trades\")\\\n",
    "    .format(\"memory\")\\\n",
    "    .outputMode(\"complete\").start()\n",
    "    # .agg({\"*\" : \"count\", \"price\" : \"avg\", \"offset\" : \"max\"})\\\n",
    "    # .withColumnsRenamed({\"avg(price)\":\"avg_price\", \"count(1)\":\"total\", \"max(offset)\":\"id\"})\\\n",
    "    # .selectExpr(\"id\", \"avg_price\", \"total\", \"window.end as event_time\", \"window.start as start\")\\\n",
    "    \n",
    "    \n",
    "\n",
    "    # .format(\"org.apache.spark.sql.cassandra\") \\\n",
    "    # .option(\"checkpointLocation\", '/tmp/checkpoint/minute_trades/') \\\n",
    "    # .option(\"confirm.truncate\", \"true\")\\\n",
    "    # .options(table = \"minute_trades\", keyspace = \"market\") \\\n",
    "    # .outputMode(\"Append\")\\\n",
    "    # .start()\n",
    "\n",
    "    # .queryName(\"minute_trades\")\\\n",
    "    # .format(\"memory\")\\\n",
    "    # .outputMode(\"complete\").start()"
   ]
  },
  {
   "cell_type": "code",
   "execution_count": null,
   "metadata": {},
   "outputs": [],
   "source": [
    "\n",
    "while 1:\n",
    "    spark.sql(\"SELECT window.start, window.end, total FROM minute_trades\").show()\n",
    "    sleep(1)"
   ]
  },
  {
   "cell_type": "code",
   "execution_count": null,
   "metadata": {},
   "outputs": [],
   "source": [
    "spark.stop()"
   ]
  },
  {
   "cell_type": "code",
   "execution_count": null,
   "metadata": {},
   "outputs": [],
   "source": []
  }
 ],
 "metadata": {
  "kernelspec": {
   "display_name": "Python 3",
   "language": "python",
   "name": "python3"
  },
  "language_info": {
   "codemirror_mode": {
    "name": "ipython",
    "version": 3
   },
   "file_extension": ".py",
   "mimetype": "text/x-python",
   "name": "python",
   "nbconvert_exporter": "python",
   "pygments_lexer": "ipython3",
   "version": "3.8.10"
  },
  "orig_nbformat": 4
 },
 "nbformat": 4,
 "nbformat_minor": 2
}
